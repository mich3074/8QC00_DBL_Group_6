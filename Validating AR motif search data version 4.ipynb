{
 "cells": [
  {
   "cell_type": "code",
   "execution_count": 1,
   "id": "e069be0c",
   "metadata": {},
   "outputs": [],
   "source": [
    "import pandas as pd\n",
    "import matplotlib.pyplot as plt\n",
    "import numpy as np\n",
    "\n",
    "sets = ['set_ACC', 'set_BLCA', 'set_BRCA', 'set_CESC', 'set_CHOL', 'set_COAD', 'set_ESCA', 'set_GBM', 'set_HNSC', \n",
    "        'set_KIRC', 'set_KIRP', 'set_LGG', 'set_LIHC', 'set_LUAD', 'set_LUSC', 'set_MESO', 'set_PCPG', 'set_PRAD', \n",
    "        'set_SKCM', 'set_STAD', 'set_TGCT', 'set_THCA', 'set_UCEC']\n",
    "\n",
    "#BLCA data is missing, because of errors in FIMO\n",
    "AR_motif_data = [r'ARdata\\ACCfimo.tsv', r'ARdata\\BRCAfimo.tsv', r'ARdata\\CESCfimo.tsv',\n",
    "                 r'ARdata\\CHOLfimo.tsv', r'ARdata\\COADfimo.tsv', r'ARdata\\ESCAfimo.tsv', r'ARdata\\GBMfimo.tsv',\n",
    "                 r'ARdata\\HNSCfimo.tsv', r'ARdata\\KIRCfimo.tsv', r'ARdata\\KIRPfimo.tsv', r'ARdata\\LGGfimo.tsv',\n",
    "                 r'ARdata\\LIHCfimo.tsv', r'ARdata\\LUADfimo.tsv', r'ARdata\\LUSCfimo.tsv', r'ARdata\\MESOfimo.tsv',\n",
    "                 r'ARdata\\PCPGfimo.tsv', r'ARdata\\PRADfimo.tsv', r'ARdata\\SKCMfimo.tsv', r'ARdata\\STADfimo.tsv',\n",
    "                 r'ARdata\\TGCTfimo.tsv', r'ARdata\\THCAfimo.tsv', r'ARdata\\UCECfimo.tsv']\n",
    "\n",
    "#Bed peak files downloaded from Cistrome to do a validation with\n",
    "#C4-2 means prostate cancer, prostate is healthy\n",
    "#C4-2 prostate is the positive control and melanoma_skin is the negative control (based on protein atlas and research)\n",
    "Cistrome_data = [r'CistromeData\\breast1.txt', r'CistromeData\\breast2.txt', r'CistromeData\\C4-2 prostate1.txt',\n",
    "                r'CistromeData\\C4-2 prostate2.txt', r'CistromeData\\C4-2 prostate3.txt', r'CistromeData\\colon.txt',\n",
    "                r'CistromeData\\melanoma_skin.txt', r'CistromeData\\kidney.txt', r'CistromeData\\prostate.txt',\n",
    "                r'CistromeData\\MCF-7 breast.txt']\n",
    "\n",
    "groups = ['chr1', 'chr2', 'chr3', 'chr4', 'chr5', 'chr6', 'chr7', 'chr8', 'chr9', 'chr10', 'chr11', 'chr12',\n",
    "          'chr13', 'chr14', 'chr15', 'chr16', 'chr17', 'chr18', 'chr19', 'chr20', 'chr21', 'chr22', 'chrX',\n",
    "          'chrY']"
   ]
  },
  {
   "cell_type": "markdown",
   "id": "c98f5b9b",
   "metadata": {},
   "source": [
    "# Preprocessing datasets"
   ]
  },
  {
   "cell_type": "code",
   "execution_count": 2,
   "id": "5c4da60e",
   "metadata": {},
   "outputs": [],
   "source": [
    "def open_tsv_files(AR_motif_data=''):\n",
    "    df = pd.read_csv(AR_motif_data, sep='\\t')\n",
    "    df = df.drop([df.shape[0]-1, df.shape[0]-2, df.shape[0]-3]) #remove three empty rows at the end of every tsv file\n",
    "    df = df.rename(columns={'sequence_name': 'seqnames', 'stop': 'end'}) #rename columns, so they match the other dataframes\n",
    "    \n",
    "    return df\n"
   ]
  },
  {
   "cell_type": "code",
   "execution_count": 3,
   "id": "4d639516",
   "metadata": {},
   "outputs": [],
   "source": [
    "def cistrome_data_preprocessing(set_1=''):\n",
    "    f = open(set_1)\n",
    "    dataset = f.read()\n",
    "    f.close()\n",
    "    \n",
    "    records=dataset.split('\\n')\n",
    "    records=records[:len(records)-1] #I removed the first five text lines in the file itself\n",
    "                                     #If you don't the fill in records[5:len(records)]\n",
    "    for i in range(len(records)):\n",
    "        records[i]=records[i].split()\n",
    "      \n",
    "    df=pd.DataFrame(records[1:],columns=records[0])          \n",
    "    \n",
    "    cols = df.columns[df.dtypes.eq('object')] \n",
    "    df[cols] = df[cols].apply(pd.to_numeric, errors='ignore') #change columns with dtype 'object' to integers\n",
    "    \n",
    "    return df\n"
   ]
  },
  {
   "cell_type": "code",
   "execution_count": 4,
   "id": "3a2fadd3",
   "metadata": {},
   "outputs": [],
   "source": [
    "def sortvalues(value,df,groups):\n",
    "    series=df.groupby(by='seqnames',sort='False').get_group(groups[0]).sort_values(by='start')\n",
    "    for group in groups:\n",
    "        if group != groups[0]:\n",
    "            if group in df['seqnames'].values:\n",
    "                series=series.append(df.groupby(by='seqnames',sort='False').get_group(group).sort_values(by='start'),ignore_index=True)\n",
    "        \n",
    "    return series"
   ]
  },
  {
   "cell_type": "markdown",
   "id": "f448e975",
   "metadata": {},
   "source": [
    "### Making lists with the preprocessed datasets"
   ]
  },
  {
   "cell_type": "code",
   "execution_count": 5,
   "id": "bb746461",
   "metadata": {},
   "outputs": [],
   "source": [
    "#create a list with all the dataframes of the different cancer types\n",
    "sets_AR=[]\n",
    "sets_Cistrome=[]\n",
    "\n",
    "for data in AR_motif_data:\n",
    "    df = open_tsv_files(data)\n",
    "    df.reset_index(inplace=True) #reset index\n",
    "    #df.sort_values(by='seqnames', inplace=True) #sort the dataframe on seqnames\n",
    "    sets_AR.append(df)\n",
    "    \n",
    "for data in Cistrome_data:\n",
    "    df = cistrome_data_preprocessing(data)\n",
    "    df.reset_index(inplace=True)\n",
    "    #df.sort_values(by='seqnames', inplace=True)\n",
    "    sets_Cistrome.append(df)\n",
    "    \n",
    "#sets_Cistrome\n",
    "#sets_AR[0]"
   ]
  },
  {
   "cell_type": "code",
   "execution_count": 6,
   "id": "e22a0bbf",
   "metadata": {},
   "outputs": [],
   "source": [
    "checkstart=sets_Cistrome[0].groupby('seqnames',sort=False)"
   ]
  },
  {
   "cell_type": "code",
   "execution_count": 7,
   "id": "f363edcd",
   "metadata": {},
   "outputs": [],
   "source": [
    "groups_wrong = [name for name,unused_df in checkstart]\n",
    "wrong=[]\n",
    "for group in groups_wrong:\n",
    "    if group not in groups:\n",
    "        wrong.append(group)"
   ]
  },
  {
   "cell_type": "code",
   "execution_count": 8,
   "id": "b370e371",
   "metadata": {},
   "outputs": [
    {
     "data": {
      "text/plain": [
       "['chrGL000008.2',\n",
       " 'chrGL000194.1',\n",
       " 'chrGL000195.1',\n",
       " 'chrGL000205.2',\n",
       " 'chrGL000216.2',\n",
       " 'chrGL000218.1',\n",
       " 'chrGL000219.1',\n",
       " 'chrGL000220.1',\n",
       " 'chrGL000224.1',\n",
       " 'chrGL000225.1',\n",
       " 'chrKI270438.1',\n",
       " 'chrKI270442.1',\n",
       " 'chrKI270466.1',\n",
       " 'chrKI270467.1',\n",
       " 'chrKI270708.1',\n",
       " 'chrKI270711.1',\n",
       " 'chrKI270712.1',\n",
       " 'chrKI270713.1',\n",
       " 'chrKI270714.1',\n",
       " 'chrKI270723.1',\n",
       " 'chrKI270725.1',\n",
       " 'chrKI270726.1',\n",
       " 'chrKI270728.1',\n",
       " 'chrKI270729.1',\n",
       " 'chrKI270731.1',\n",
       " 'chrKI270733.1',\n",
       " 'chrKI270734.1',\n",
       " 'chrKI270742.1',\n",
       " 'chrKI270744.1',\n",
       " 'chrKI270747.1',\n",
       " 'chrMT']"
      ]
     },
     "execution_count": 8,
     "metadata": {},
     "output_type": "execute_result"
    }
   ],
   "source": [
    "wrong"
   ]
  },
  {
   "cell_type": "code",
   "execution_count": 9,
   "id": "0f95db0b",
   "metadata": {},
   "outputs": [],
   "source": [
    "for l in range(len(sets_Cistrome)):\n",
    "    sets_Cistrome[l]=sets_Cistrome[l][~sets_Cistrome[l]['seqnames'].isin(wrong)]\n",
    "checkstart2=sets_Cistrome[0].groupby('seqnames',sort=False)\n",
    "groups=[name for name,unused_df in checkstart2]"
   ]
  },
  {
   "cell_type": "code",
   "execution_count": 10,
   "id": "a85a6589",
   "metadata": {},
   "outputs": [],
   "source": [
    "for l in range(len(sets_Cistrome)):\n",
    "    sets_Cistrome[l]=sortvalues('seqnames',sets_Cistrome[l],groups)\n",
    "#sets_Cistrome[0]"
   ]
  },
  {
   "cell_type": "markdown",
   "id": "df588ef6",
   "metadata": {},
   "source": [
    "# Comparing overlap"
   ]
  },
  {
   "cell_type": "code",
   "execution_count": 11,
   "id": "602af490",
   "metadata": {},
   "outputs": [],
   "source": [
    "#Function to compare peak intervals\n",
    "def Compare(set_1, set_2):    \n",
    "    #reset all the variables\n",
    "    index1 = 0 #interval number of list 1\n",
    "    index2 = 0 #interval number of list 2\n",
    "    total_overlap_12 = [0 for i in range(set_1.shape[0])]\n",
    "    count = 0\n",
    "    \n",
    "    #loop over the list till it has come to an end, since list lengths can vary\n",
    "    while not index1 == set_1.shape[0]:\n",
    "        start1 = set_1['start'].loc[index1]\n",
    "        end1 = set_1['end'].loc[index1]\n",
    "        start2 = set_2['start'].loc[index2]\n",
    "        end2 = set_2['end'].loc[index2]\n",
    "        overlap = False\n",
    "        \n",
    "        #compute current intervals\n",
    "        #check for overlap between the intervals\n",
    "        if start1<=end2 and end1>=start2:\n",
    "            overlap=True\n",
    "            count+=1\n",
    "\n",
    "        #if OVERLAP FALSE        \n",
    "        if overlap == False:\n",
    "            #go to next interval2 if the end of interval 2 is before the beginnning of interval 1 \n",
    "            if end2 < start1:\n",
    "                #check if list2 has come to end: If true add to index1 instead of index2\n",
    "                if index2 == set_2.shape[0]-1:\n",
    "                    index1 += 1\n",
    "                else:\n",
    "                    index2 += 1\n",
    "            #go to next interval1 if interval2 begins after interval1 ends\n",
    "            elif end1 < start2:\n",
    "                index1 += 1\n",
    "                \n",
    "        #if OVERLAP TRUE \n",
    "        if overlap == True and index1 <= set_1.shape[0]-1:\n",
    "            total_overlap_12[index1] = 1\n",
    "            index1 += 1\n",
    "   \n",
    "    return total_overlap_12"
   ]
  },
  {
   "cell_type": "code",
   "execution_count": 12,
   "id": "5b641e9c",
   "metadata": {},
   "outputs": [],
   "source": [
    "#checking if the overlap function works using breast datasets from AR and breast dataset 1 from Cistrome\n",
    "overlap_BRCA = Compare(sets_AR[1].groupby('seqnames',sort=False).get_group('chr1').sort_values(by='start').reset_index(),\n",
    "                       sets_Cistrome[0].groupby('seqnames',sort=False).get_group('chr1').sort_values(by='start').reset_index())\n",
    "#overlap_BRCA"
   ]
  },
  {
   "cell_type": "markdown",
   "id": "2a6ac593",
   "metadata": {},
   "source": [
    "### Calculating similarity in percentages"
   ]
  },
  {
   "cell_type": "code",
   "execution_count": 13,
   "id": "9873a95e",
   "metadata": {},
   "outputs": [],
   "source": [
    "#Calculate the percentages overlap between two dataframes by using the compare function\n",
    "def percentage(df_1, df_2, name1, name2):\n",
    "    overlap_12=[]\n",
    "    overlap_21=[]\n",
    "    \n",
    "    for group in groups:\n",
    "        if group in df_1['seqnames'].values and group in df_2['seqnames'].values:\n",
    "            set_1 = df_1.groupby('seqnames',sort=False).get_group(group).sort_values(by='start').reset_index()\n",
    "            set_2 = df_2.groupby('seqnames',sort=False).get_group(group).sort_values(by='start').reset_index()\n",
    "            overlap_12.extend(Compare(set_1,set_2))\n",
    "            overlap_21.extend(Compare(set_2,set_1))\n",
    "        elif group in df_1['seqnames'].values:\n",
    "            overlap_12.extend([0 for i in range(df_1.groupby('seqnames',sort=False).get_group(group).shape[0])])\n",
    "        else:\n",
    "            overlap_21.extend([0 for i in range(df_2.groupby('seqnames',sort=False).get_group(group).shape[0])])\n",
    "\n",
    "    df_1[name2] = overlap_12\n",
    "    df_2[name1] = overlap_21\n",
    "\n",
    "    perc_1op2 = (df_1[name2].sum()/df_1.shape[0])*100\n",
    "    perc_2op1 = (df_2[name1].sum()/df_2.shape[0])*100\n",
    "    \n",
    "    print('percentage overlap of', name1, 'on', name2,':', perc_1op2, 'percentage overlap of ', \n",
    "          name2, 'on', name1, ':', perc_2op1)\n",
    "    avg_perc_12 = (perc_1op2+perc_2op1)/2\n",
    "\n",
    "    return df_1, df_2, avg_perc_12"
   ]
  },
  {
   "cell_type": "markdown",
   "id": "2834424b",
   "metadata": {},
   "source": [
    "# Validating AR motif search datasets"
   ]
  },
  {
   "cell_type": "code",
   "execution_count": 14,
   "id": "1f76c75c",
   "metadata": {},
   "outputs": [],
   "source": [
    "#Using the percentage function to calculate the similarity between datasets from cistrome (with highest quality control) \n",
    "#and our own AR motif search datasets (that were obtained from FIMO)\n",
    "#This way we validate if our own AR motifs are accurate"
   ]
  },
  {
   "cell_type": "markdown",
   "id": "f4cb2a0f",
   "metadata": {},
   "source": [
    "### Positive control"
   ]
  },
  {
   "cell_type": "code",
   "execution_count": 27,
   "id": "6aa9856a",
   "metadata": {},
   "outputs": [
    {
     "name": "stdout",
     "output_type": "stream",
     "text": [
      "percentage overlap of AR_PRAD1 on Cistrome_PRAD1 : 16.75365344467641 percentage overlap of  Cistrome_PRAD1 on AR_PRAD1 : 10.745873859972997\n",
      "percentage overlap of AR_PRAD2 on Cistrome_PRAD2 : 35.62282533054976 percentage overlap of  Cistrome_PRAD2 on AR_PRAD2 : 12.133891213389122\n",
      "percentage overlap of AR_PRAD3 on Cistrome_PRAD3 : 43.785664578984 percentage overlap of  Cistrome_PRAD3 on AR_PRAD3 : 11.395854088895824\n",
      "13.749763652324702\n",
      "23.87835827196944\n",
      "27.59075933393991\n"
     ]
    }
   ],
   "source": [
    "#Comparing three C4-2 prostate datasets (with quality of 4 or 5) from Cistrome with our dataset from FIMO\n",
    "df_AR, df_Cistrome, avg_perc_PRAD1 = percentage(sets_AR[16], sets_Cistrome[2], 'AR_PRAD1', 'Cistrome_PRAD1');\n",
    "df_AR, df_Cistrome, avg_perc_PRAD2 = percentage(sets_AR[16], sets_Cistrome[3], 'AR_PRAD2', 'Cistrome_PRAD2');\n",
    "df_AR, df_Cistrome, avg_perc_PRAD3 = percentage(sets_AR[16], sets_Cistrome[4], 'AR_PRAD3', 'Cistrome_PRAD3');\n",
    "\n",
    "print(avg_perc_PRAD1) #Result is approximately 13,7% overlap\n",
    "print(avg_perc_PRAD2) #Result is approximately 23,9% overlap\n",
    "print(avg_perc_PRAD3) #Result is approximately 27,6% overlap"
   ]
  },
  {
   "cell_type": "code",
   "execution_count": 28,
   "id": "10ae7843",
   "metadata": {},
   "outputs": [
    {
     "name": "stdout",
     "output_type": "stream",
     "text": [
      "percentage overlap of AR_PRADnorm on Cistrome_PRADnorm : 22.65135699373695 percentage overlap of  Cistrome_PRADnorm on AR_PRADnorm : 20.91877892412856\n",
      "21.785067958932757\n"
     ]
    }
   ],
   "source": [
    "#Comparing a prostate datasets (with quality of 5) from Cistrome with our dataset from FIMO\n",
    "df_AR, df_Cistrome, avg_perc_PRADnorm = percentage(sets_AR[16], sets_Cistrome[8], 'AR_PRADnorm', 'Cistrome_PRADnorm');\n",
    "\n",
    "print(avg_perc_PRADnorm) #Result is approximately 21,8% overlap"
   ]
  },
  {
   "cell_type": "code",
   "execution_count": 67,
   "id": "8f4453e8",
   "metadata": {},
   "outputs": [
    {
     "data": {
      "text/plain": [
       "21.7509873042917"
      ]
     },
     "execution_count": 67,
     "metadata": {},
     "output_type": "execute_result"
    }
   ],
   "source": [
    "avg_positive_control = (avg_perc_PRAD1+avg_perc_PRAD2+avg_perc_PRAD3+avg_perc_PRADnorm)/4\n",
    "avg_positive_control"
   ]
  },
  {
   "cell_type": "code",
   "execution_count": 45,
   "id": "7df09d48",
   "metadata": {},
   "outputs": [
    {
     "name": "stdout",
     "output_type": "stream",
     "text": [
      "percentage overlap of AR_PRAD4 on Cistrome_PRAD4 : 55.60300884468079 percentage overlap of  Cistrome_PRAD4 on AR_PRAD4 : 31.64815805203385\n",
      "percentage overlap of AR_PRAD4 on Cistrome_PRAD4 : 66.61615187501721 percentage overlap of  Cistrome_PRAD4 on AR_PRAD4 : 29.017776764172797\n",
      "percentage overlap of AR_PRAD4 on Cistrome_PRAD4 : 29.622792273992232 percentage overlap of  Cistrome_PRAD4 on AR_PRAD4 : 45.98989513013204\n",
      "percentage overlap of AR_PRAD4 on Cistrome_PRAD4 : 82.61710762261302 percentage overlap of  Cistrome_PRAD4 on AR_PRAD4 : 63.33137280791252\n",
      "percentage overlap of AR_PRAD4 on Cistrome_PRAD4 : 26.070406140875203 percentage overlap of  Cistrome_PRAD4 on AR_PRAD4 : 71.1714006708275\n",
      "percentage overlap of AR_PRAD4 on Cistrome_PRAD4 : 21.568580379541714 percentage overlap of  Cistrome_PRAD4 on AR_PRAD4 : 76.945612023946\n"
     ]
    }
   ],
   "source": [
    "df_AR, df_Cistrome, avg_perc_PRADa = percentage(sets_Cistrome[2], sets_Cistrome[3], 'AR_PRAD4', 'Cistrome_PRAD4');\n",
    "df_AR, df_Cistrome, avg_perc_PRADb = percentage(sets_Cistrome[2], sets_Cistrome[4], 'AR_PRAD4', 'Cistrome_PRAD4');\n",
    "df_AR, df_Cistrome, avg_perc_PRADc = percentage(sets_Cistrome[2], sets_Cistrome[8], 'AR_PRAD4', 'Cistrome_PRAD4');\n",
    "df_AR, df_Cistrome, avg_perc_PRADd = percentage(sets_Cistrome[3], sets_Cistrome[4], 'AR_PRAD4', 'Cistrome_PRAD4');\n",
    "df_AR, df_Cistrome, avg_perc_PRADe = percentage(sets_Cistrome[3], sets_Cistrome[8], 'AR_PRAD4', 'Cistrome_PRAD4');\n",
    "df_AR, df_Cistrome, avg_perc_PRADf = percentage(sets_Cistrome[4], sets_Cistrome[8], 'AR_PRAD4', 'Cistrome_PRAD4');\n",
    "\n",
    "percentages_PRAD_FIMOandCis = [[100, avg_perc_PRAD1, avg_perc_PRAD2, avg_perc_PRAD3, avg_perc_PRADnorm],\n",
    "                               [avg_perc_PRAD1, 100, avg_perc_PRADa, avg_perc_PRADb, avg_perc_PRADc],\n",
    "                               [avg_perc_PRAD2, avg_perc_PRADa, 100, avg_perc_PRADd, avg_perc_PRADe],\n",
    "                               [avg_perc_PRAD3, avg_perc_PRADb, avg_perc_PRADd, 100, avg_perc_PRADf],\n",
    "                               [avg_perc_PRADnorm, avg_perc_PRADc, avg_perc_PRADe, avg_perc_PRADf, 100]];\n"
   ]
  },
  {
   "cell_type": "code",
   "execution_count": 70,
   "id": "e28553fb",
   "metadata": {},
   "outputs": [
    {
     "name": "stdout",
     "output_type": "stream",
     "text": [
      "43.62558344835732\n",
      "47.816964319595\n",
      "37.80634370206214\n",
      "72.97424021526277\n",
      "48.62090340585135\n",
      "49.257096201743856\n",
      "13.749763652324702\n",
      "23.87835827196944\n",
      "27.59075933393991\n",
      "21.785067958932757\n"
     ]
    }
   ],
   "source": [
    "print(avg_perc_PRADa)\n",
    "print(avg_perc_PRADb)\n",
    "print(avg_perc_PRADc)\n",
    "print(avg_perc_PRADd)\n",
    "print(avg_perc_PRADe)\n",
    "print(avg_perc_PRADf)\n",
    "print(avg_perc_PRAD1)\n",
    "print(avg_perc_PRAD2)\n",
    "print(avg_perc_PRAD3)\n",
    "print(avg_perc_PRADnorm)"
   ]
  },
  {
   "cell_type": "code",
   "execution_count": 71,
   "id": "d0ae4d24",
   "metadata": {},
   "outputs": [
    {
     "data": {
      "text/plain": [
       "54.075744683713985"
      ]
     },
     "execution_count": 71,
     "metadata": {},
     "output_type": "execute_result"
    }
   ],
   "source": [
    "avg_ChIPseq = (avg_perc_PRADa+avg_perc_PRADb+avg_perc_PRADc+avg_perc_PRADd+avg_perc_PRADd+avg_perc_PRADf)/6\n",
    "avg_ChIPseq"
   ]
  },
  {
   "cell_type": "code",
   "execution_count": 72,
   "id": "001c9e00",
   "metadata": {},
   "outputs": [
    {
     "data": {
      "text/plain": [
       "21.7509873042917"
      ]
     },
     "execution_count": 72,
     "metadata": {},
     "output_type": "execute_result"
    }
   ],
   "source": [
    "avg_FIMO = (avg_perc_PRAD1+avg_perc_PRAD2+avg_perc_PRAD3+avg_perc_PRADnorm)/4\n",
    "avg_FIMO"
   ]
  },
  {
   "cell_type": "code",
   "execution_count": 66,
   "id": "89234957",
   "metadata": {},
   "outputs": [
    {
     "data": {
      "image/png": "[encoded data removed]",
      "text/plain": [
       "<Figure size 432x432 with 2 Axes>"
      ]
     },
     "metadata": {
      "needs_background": "light"
     },
     "output_type": "display_data"
    }
   ],
   "source": [
    "fig, ax = plt.subplots(figsize=(6, 6))\n",
    "\n",
    "heatmap = ax.imshow(percentages_PRAD_FIMOandCis, cmap='hot', interpolation='nearest')\n",
    "x_labels = ['AR_FIMO_PRAD', 'Cistrome_C4-2_PRAD1', 'Cistrome_C4-2_PRAD2', 'Cistrome_C4-2_PRAD3', 'Cistrome_PRADnorm']\n",
    "y_labels = ['AR_FIMO_PRAD', 'Cistrome_C4-2_PRAD1', 'Cistrome_C4-2_PRAD2', 'Cistrome_C4-2_PRAD3', 'Cistrome_PRADnorm']\n",
    "\n",
    "ax.set_xticks(range(len(x_labels)))\n",
    "ax.set_yticks(range(len(y_labels)))\n",
    "ax.set_xticklabels(x_labels, rotation=90, fontsize=8)\n",
    "ax.set_yticklabels(y_labels, fontsize=8)\n",
    "\n",
    "#plt.title('Heatmap of percentages overlap of our PRAD AR motif search data and the CHIP-seq data of different PRAD from Cistrome')\n",
    "\n",
    "cbar = plt.colorbar(heatmap, ax=ax, shrink=0.8)\n",
    "\n",
    "plt.show()"
   ]
  },
  {
   "cell_type": "markdown",
   "id": "b629ec04",
   "metadata": {},
   "source": [
    "### Negative control"
   ]
  },
  {
   "cell_type": "code",
   "execution_count": 59,
   "id": "19bac87c",
   "metadata": {},
   "outputs": [
    {
     "name": "stdout",
     "output_type": "stream",
     "text": [
      "percentage overlap of AR_SKCM on Cistrome_SKCM : 1.4437689969604863 percentage overlap of  Cistrome_SKCM on AR_SKCM : 4.110738255033557\n",
      "2.7772536259970217\n"
     ]
    }
   ],
   "source": [
    "#Based on protein and RNA expression in melanoma skin from the ProteinAtlas we choose this as a negative control \n",
    "#(The expression should be very low)\n",
    "\n",
    "#Comparing a melanoma skin datasets (quality control of 4) from Cistrome with our dataset from FIMO\n",
    "df_AR, df_Cistrome, avg_perc_SKCM = percentage(sets_AR[17], sets_Cistrome[6], 'AR_SKCM', 'Cistrome_SKCM');\n",
    "\n",
    "print(avg_perc_SKCM) #Result is approximately 2,8% overlap"
   ]
  },
  {
   "cell_type": "code",
   "execution_count": 60,
   "id": "b2827588",
   "metadata": {},
   "outputs": [
    {
     "name": "stdout",
     "output_type": "stream",
     "text": [
      "percentage overlap of AR_COAD on Cistrome_COAD : 0.0 percentage overlap of  Cistrome_COAD on AR_COAD : 0.0\n",
      "0.0\n"
     ]
    }
   ],
   "source": [
    "#Comparing a colon datasets (quality control of 5) from Cistrome with our dataset from FIMO\n",
    "df_AR, df_Cistrome, avg_perc_COAD = percentage(sets_AR[4], sets_Cistrome[5], 'AR_COAD', 'Cistrome_COAD');\n",
    "\n",
    "print(avg_perc_COAD) #Result is approximately 0% overlap"
   ]
  },
  {
   "cell_type": "markdown",
   "id": "058ab610",
   "metadata": {},
   "source": [
    "### Some other tumor types"
   ]
  },
  {
   "cell_type": "markdown",
   "id": "e900dc98",
   "metadata": {},
   "source": [
    "#### These tumor types are inbetween positive and negative control in terms of expected AR expression based on ProteinAtlas"
   ]
  },
  {
   "cell_type": "code",
   "execution_count": 68,
   "id": "77fa297e",
   "metadata": {
    "scrolled": true
   },
   "outputs": [
    {
     "name": "stdout",
     "output_type": "stream",
     "text": [
      "percentage overlap of Cistrome_BRCA1 on AR_BRCA1 : 5.657599551318004 percentage overlap of  AR_BRCA1 on Cistrome_BRCA1 : 3.6156529502207087\n",
      "percentage overlap of Cistrome_BRCA2 on AR_BRCA2 : 4.51719947653767 percentage overlap of  AR_BRCA2 on Cistrome_BRCA2 : 3.7459422518366647\n",
      "percentage overlap of Cistrome_BRCA3 on AR_BRCA3 : 0.6216115161712469 percentage overlap of  AR_BRCA3 on Cistrome_BRCA3 : 11.074766355140186\n",
      "4.636626250769356\n",
      "4.131570864187168\n",
      "5.848188935655717\n"
     ]
    },
    {
     "data": {
      "text/plain": [
       "4.872128683537414"
      ]
     },
     "execution_count": 68,
     "metadata": {},
     "output_type": "execute_result"
    }
   ],
   "source": [
    "#Comparing two breast datasets (both quality control of 5) from Cistrome with our dataset from FIMO\n",
    "df_AR1, df_Cistrome1, avg_perc_BRCA1 = percentage(sets_AR[1], sets_Cistrome[0], 'Cistrome_BRCA1', 'AR_BRCA1')\n",
    "df_AR2, df_Cistrome2, avg_perc_BRCA2 = percentage(sets_AR[1], sets_Cistrome[1],'Cistrome_BRCA2', 'AR_BRCA2')\n",
    "df_AR2, df_Cistrome2, avg_perc_BRCA3 = percentage(sets_AR[1], sets_Cistrome[9],'Cistrome_BRCA3', 'AR_BRCA3') #MCF-7 breast data\n",
    "\n",
    "print(avg_perc_BRCA1) #Result is approximately 4,6% overlap\n",
    "print(avg_perc_BRCA2) #Result is approximately 4,1% overlap\n",
    "print(avg_perc_BRCA3) #Result is approximately 5,8% overlap\n",
    "\n",
    "avg_BRCA = (avg_perc_BRCA1+avg_perc_BRCA2+avg_perc_BRCA3)/3\n",
    "avg_BRCA"
   ]
  },
  {
   "cell_type": "code",
   "execution_count": 69,
   "id": "03b54234",
   "metadata": {},
   "outputs": [
    {
     "name": "stdout",
     "output_type": "stream",
     "text": [
      "percentage overlap of AR_KIRC on Cistrome_KIRC : 0.026062027625749284 percentage overlap of  Cistrome_KIRC on AR_KIRC : 0.0691085003455425\n",
      "percentage overlap of AR_KIRP on Cistrome_KIRP : 0.056001493373156616 percentage overlap of  Cistrome_KIRP on AR_KIRP : 0.193503800967519\n",
      "0.047585263985645894\n",
      "0.12475264717033782\n"
     ]
    },
    {
     "data": {
      "text/plain": [
       "0.08616895557799185"
      ]
     },
     "execution_count": 69,
     "metadata": {},
     "output_type": "execute_result"
    }
   ],
   "source": [
    "#Comparing a kidney datasets (quality control of 5) from Cistrome with our dataset from FIMO\n",
    "df_AR, df_Cistrome, avg_perc_KIRC = percentage(sets_AR[8], sets_Cistrome[7], 'AR_KIRC', 'Cistrome_KIRC');\n",
    "df_AR, df_Cistrome, avg_perc_KIRP = percentage(sets_AR[9], sets_Cistrome[7], 'AR_KIRP', 'Cistrome_KIRP');\n",
    "\n",
    "print(avg_perc_KIRC) #Result is approximately 0.05% overlap\n",
    "print(avg_perc_KIRP) #Result is approximately 0.12% overlap\n",
    "\n",
    "avg_KIRC_KIRP = (avg_perc_KIRC+avg_perc_KIRP)/2\n",
    "avg_KIRC_KIRP "
   ]
  },
  {
   "cell_type": "code",
   "execution_count": null,
   "id": "091b939e",
   "metadata": {},
   "outputs": [],
   "source": []
  }
 ],
 "metadata": {
  "kernelspec": {
   "display_name": "Python 3",
   "language": "python",
   "name": "python3"
  },
  "language_info": {
   "codemirror_mode": {
    "name": "ipython",
    "version": 3
   },
   "file_extension": ".py",
   "mimetype": "text/x-python",
   "name": "python",
   "nbconvert_exporter": "python",
   "pygments_lexer": "ipython3",
   "version": "3.8.8"
  }
 },
 "nbformat": 4,
 "nbformat_minor": 5
}
